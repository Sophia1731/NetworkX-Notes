{
  "cells": [
    {
      "cell_type": "markdown",
      "metadata": {
        "id": "u9BoQSQOBK_o"
      },
      "source": [
        "\n",
        "# Notes on NetworkX\n",
        "\n",
        "\n",
        "[NetworkX Documentation](https://networkx.github.io/)\n",
        "\n",
        "Mostly focused on NetworkX v3.1.\n",
        "\n",
        "Here are some notes on how to use NetworkX to create graphs of networks. Starting with the basics of creating graphs, Nodes, and edges, then adding attributes, drawing graphs, and using graph plot generators. We will use florentine_families.gml to generate a graph.\n",
        "\n",
        "To install:\n",
        "```bash\n",
        "foo@bar:~$ pip install --upgrade networkx\n",
        "```\n",
        "\n",
        "```bash\n",
        "foo@bar:~$ pip install networkx==3.1\n",
        "```\n",
        "\n",
        "The official documentation for `networkx` can be found [here](https://networkx.github.io/documentation/stable/) and an official tutorial is available [here](https://networkx.github.io/documentation/stable/tutorial.html)."
      ]
    },
    {
      "cell_type": "code",
      "execution_count": 2,
      "metadata": {
        "id": "yCd_LbyKBK_q"
      },
      "outputs": [],
      "source": [
        "import networkx as nx\n",
        "import matplotlib.pyplot as plt\n",
        "%matplotlib inline"
      ]
    },
    {
      "cell_type": "markdown",
      "metadata": {
        "id": "3fS77z5YBK_r"
      },
      "source": [
        "### Graph\n",
        "\n",
        "The main component of NetworkX is the graph object. NetworkX supports several [graph types](https://networkx.github.io/documentation/stable/reference/classes/index.html#graph-types). We can create an empty undirected graph by:"
      ]
    },
    {
      "cell_type": "code",
      "execution_count": 3,
      "metadata": {
        "id": "64gM0ZhkBK_s"
      },
      "outputs": [],
      "source": [
        "G = nx.Graph()"
      ]
    },
    {
      "cell_type": "markdown",
      "metadata": {
        "id": "f0jaqBsGBK_s"
      },
      "source": [
        "Learn more about G"
      ]
    },
    {
      "cell_type": "code",
      "execution_count": 4,
      "metadata": {
        "id": "UhUHCXDGBK_t"
      },
      "outputs": [],
      "source": [
        "#G?"
      ]
    },
    {
      "cell_type": "markdown",
      "metadata": {
        "id": "roERoGXxBK_t"
      },
      "source": [
        "Similarly, we can also create a digraph or a multigraph:"
      ]
    },
    {
      "cell_type": "code",
      "execution_count": 5,
      "metadata": {
        "id": "HMOlHtiFBK_u"
      },
      "outputs": [],
      "source": [
        "DiG = nx.DiGraph()\n",
        "MuG = nx.MultiGraph()"
      ]
    },
    {
      "cell_type": "markdown",
      "metadata": {
        "id": "xW_Hl05iBK_v"
      },
      "source": [
        "Learn more about MuG"
      ]
    },
    {
      "cell_type": "code",
      "execution_count": 6,
      "metadata": {
        "collapsed": true,
        "jupyter": {
          "outputs_hidden": true
        },
        "id": "OP4vmjl3BK_v"
      },
      "outputs": [],
      "source": [
        "MuG?"
      ]
    },
    {
      "cell_type": "markdown",
      "metadata": {
        "id": "WMV3fFVmBK_w"
      },
      "source": [
        "### Nodes\n",
        "\n",
        "We can add nodes to a graph one at a time or by adding a list of nodes simultaneously:"
      ]
    },
    {
      "cell_type": "code",
      "execution_count": 7,
      "metadata": {
        "id": "X0lwGQ6qBK_w"
      },
      "outputs": [],
      "source": [
        "G.add_node(1) # add a single node\n",
        "G.add_nodes_from([2, 3, 4, 5, 6, 7, 8, 9, 0]) # add a list of nodes"
      ]
    },
    {
      "cell_type": "markdown",
      "metadata": {
        "id": "tmBYk0WLBK_x"
      },
      "source": [
        "We can retrieve the nodes of a graph object `G` directly with:"
      ]
    },
    {
      "cell_type": "code",
      "execution_count": 8,
      "metadata": {
        "colab": {
          "base_uri": "https://localhost:8080/"
        },
        "id": "1RxXP5zXBK_x",
        "outputId": "c2ed7482-0cb3-4030-e50c-d53b4c0ddf77"
      },
      "outputs": [
        {
          "output_type": "execute_result",
          "data": {
            "text/plain": [
              "NodeView((1, 2, 3, 4, 5, 6, 7, 8, 9, 0))"
            ]
          },
          "metadata": {},
          "execution_count": 8
        }
      ],
      "source": [
        "G.nodes"
      ]
    },
    {
      "cell_type": "markdown",
      "metadata": {
        "id": "WnGiAbjbBK_x"
      },
      "source": [
        "We can also remove nodes if we don't want some of them using `Graph.remove_node()` or `Graph.remove_nodes_from()`."
      ]
    },
    {
      "cell_type": "code",
      "execution_count": 9,
      "metadata": {
        "colab": {
          "base_uri": "https://localhost:8080/"
        },
        "id": "dxQK3Kl3BK_x",
        "outputId": "4dc1ec48-cb02-44ef-996c-5cd7a2506054"
      },
      "outputs": [
        {
          "output_type": "execute_result",
          "data": {
            "text/plain": [
              "NodeView((1, 2, 3, 4, 5, 7, 8, 9, 0))"
            ]
          },
          "metadata": {},
          "execution_count": 9
        }
      ],
      "source": [
        "G.remove_node(6)\n",
        "G.nodes"
      ]
    },
    {
      "cell_type": "markdown",
      "metadata": {
        "id": "UwlIjNbUBK_y"
      },
      "source": [
        "### Edges\n",
        "\n",
        "Similar to the process of adding nodes, we can add edges to a graph. Each edge is specified by a pair of nodes."
      ]
    },
    {
      "cell_type": "code",
      "execution_count": 10,
      "metadata": {
        "id": "NqD6_RTVBK_y"
      },
      "outputs": [],
      "source": [
        "G.add_edge(1, 2) # add a single edge\n",
        "G.add_edges_from([(1, 2), (1, 3), (2, 4), (2, 5), (3,5),\n",
        "                  (3, 7), (4,8), (5,9),(5,0),(6,0),(7,8),(8,9)]) # add a list of edges"
      ]
    },
    {
      "cell_type": "markdown",
      "metadata": {
        "id": "BmB9twk7BK_y"
      },
      "source": [
        "Similarly, we retrieve the edges with:"
      ]
    },
    {
      "cell_type": "code",
      "execution_count": 12,
      "metadata": {
        "colab": {
          "base_uri": "https://localhost:8080/"
        },
        "id": "QqmRV4J4BK_y",
        "outputId": "654e5cf5-d13c-4ae9-c62b-5b2409541c79"
      },
      "outputs": [
        {
          "output_type": "execute_result",
          "data": {
            "text/plain": [
              "EdgeView([(1, 2), (1, 3), (2, 4), (2, 5), (3, 5), (3, 7), (4, 8), (5, 9), (5, 0), (7, 8), (8, 9), (0, 6)])"
            ]
          },
          "metadata": {},
          "execution_count": 12
        }
      ],
      "source": [
        "G.edges"
      ]
    },
    {
      "cell_type": "markdown",
      "metadata": {
        "id": "8hEpiDVtBK_z"
      },
      "source": [
        "Or the edges of specific nodes:"
      ]
    },
    {
      "cell_type": "code",
      "execution_count": 13,
      "metadata": {
        "colab": {
          "base_uri": "https://localhost:8080/"
        },
        "id": "rTPZnQ8BBK_z",
        "outputId": "49dbba85-103a-4c38-a2c7-1a214b0180cd"
      },
      "outputs": [
        {
          "output_type": "execute_result",
          "data": {
            "text/plain": [
              "EdgeDataView([(2, 1), (2, 4), (2, 5)])"
            ]
          },
          "metadata": {},
          "execution_count": 13
        }
      ],
      "source": [
        "G.edges(2) # all edges related to node 2"
      ]
    },
    {
      "cell_type": "markdown",
      "metadata": {
        "id": "Ac5HOqmbBK_0"
      },
      "source": [
        "Edges can be removed similarly to the way they are added, with `Graph.remove_edge()` or `Graph.remove_edges_from()`."
      ]
    },
    {
      "cell_type": "code",
      "execution_count": 14,
      "metadata": {
        "colab": {
          "base_uri": "https://localhost:8080/"
        },
        "id": "Dgrs7SrkBK_0",
        "outputId": "b344b083-300a-4a5d-8aa6-2f693a67ac07"
      },
      "outputs": [
        {
          "output_type": "execute_result",
          "data": {
            "text/plain": [
              "EdgeView([(1, 3), (2, 4), (2, 5), (3, 5), (3, 7), (4, 8), (5, 9), (5, 0), (7, 8), (8, 9), (0, 6)])"
            ]
          },
          "metadata": {},
          "execution_count": 14
        }
      ],
      "source": [
        "G.remove_edge(1, 2)\n",
        "G.edges"
      ]
    },
    {
      "cell_type": "markdown",
      "metadata": {
        "id": "zG842JJ2BK_0"
      },
      "source": [
        "## Adding attributes\n",
        "\n",
        "We can assign attributes to graphs, nodes, and edges. You can set the name of attributes as you wish. For example, adding an attribute called \"name\" to graph G:"
      ]
    },
    {
      "cell_type": "code",
      "execution_count": 15,
      "metadata": {
        "colab": {
          "base_uri": "https://localhost:8080/"
        },
        "id": "QR4_VKqnBK_0",
        "outputId": "cc9e6af5-a36c-4c12-f7cf-079d09b9e01b"
      },
      "outputs": [
        {
          "output_type": "execute_result",
          "data": {
            "text/plain": [
              "{'name': 'My first graph'}"
            ]
          },
          "metadata": {},
          "execution_count": 15
        }
      ],
      "source": [
        "G.graph['name'] = \"My first graph\"\n",
        "G.graph"
      ]
    },
    {
      "cell_type": "markdown",
      "metadata": {
        "id": "2C4R713YBK_0"
      },
      "source": [
        "Similarly, we can add attributes for nodes and edges:"
      ]
    },
    {
      "cell_type": "code",
      "execution_count": 16,
      "metadata": {
        "id": "wQoYDbgXBK_0"
      },
      "outputs": [],
      "source": [
        "G.add_node(6, color='red') # add a node with color attribute \"red\"\n",
        "G.nodes[1]['color'] = 'green' # add color \"green\" attribute to node 1"
      ]
    },
    {
      "cell_type": "markdown",
      "metadata": {
        "id": "jdLz7_zIBK_0"
      },
      "source": [
        "You can quickly view all node attributes by passing `data=True` like so:"
      ]
    },
    {
      "cell_type": "code",
      "execution_count": 17,
      "metadata": {
        "colab": {
          "base_uri": "https://localhost:8080/"
        },
        "id": "7gPjrHBDBK_1",
        "outputId": "30c48e0b-f795-4a27-b3fd-596f2051e21a"
      },
      "outputs": [
        {
          "output_type": "execute_result",
          "data": {
            "text/plain": [
              "NodeDataView({1: {'color': 'green'}, 2: {}, 3: {}, 4: {}, 5: {}, 7: {}, 8: {}, 9: {}, 0: {}, 6: {'color': 'red'}})"
            ]
          },
          "metadata": {},
          "execution_count": 17
        }
      ],
      "source": [
        "G.nodes(data=True)"
      ]
    },
    {
      "cell_type": "markdown",
      "metadata": {
        "id": "9xaKEKqBBK_1"
      },
      "source": [
        "Here we are adding attributes to edges in a fashion similar to what we did above:"
      ]
    },
    {
      "cell_type": "code",
      "execution_count": 18,
      "metadata": {
        "colab": {
          "base_uri": "https://localhost:8080/"
        },
        "id": "FmjglI3uBK_1",
        "outputId": "15b3ad1b-5974-4540-cec7-d4a1701e5560"
      },
      "outputs": [
        {
          "output_type": "execute_result",
          "data": {
            "text/plain": [
              "{'weight': 0.7}"
            ]
          },
          "metadata": {},
          "execution_count": 18
        }
      ],
      "source": [
        "G.add_edge(1, 2, weight=0.7) # add an edge of weight attribute 0.7\n",
        "G.edges()[(1,2)]"
      ]
    },
    {
      "cell_type": "code",
      "execution_count": 19,
      "metadata": {
        "id": "obI6MmAQBK_1"
      },
      "outputs": [],
      "source": [
        "G.add_edges_from([(3, 4), (4, 5), (3, 6), (5, 6)], weight=0.3)        # add edges of weight attribute 0.3\n",
        "G.add_edges_from([(1, 5, {'weight': 0.5}), (1, 4, {'weight': 0.8})])  # add edges of different weights"
      ]
    },
    {
      "cell_type": "code",
      "execution_count": 20,
      "metadata": {
        "colab": {
          "base_uri": "https://localhost:8080/"
        },
        "id": "-xfEKbxzBK_1",
        "outputId": "7d0960e6-93f8-49e9-c514-7765e533b9c9"
      },
      "outputs": [
        {
          "output_type": "execute_result",
          "data": {
            "text/plain": [
              "EdgeDataView([(1, 3, {}), (1, 2, {'weight': 0.7}), (1, 5, {'weight': 0.5}), (1, 4, {'weight': 0.8}), (2, 4, {}), (2, 5, {}), (3, 5, {}), (3, 7, {}), (3, 4, {'weight': 0.3}), (3, 6, {'weight': 0.3}), (4, 8, {}), (4, 5, {'weight': 0.3}), (5, 9, {}), (5, 0, {}), (5, 6, {'weight': 0.3}), (7, 8, {}), (8, 9, {}), (0, 6, {})])"
            ]
          },
          "metadata": {},
          "execution_count": 20
        }
      ],
      "source": [
        "G.edges(data=True)"
      ]
    },
    {
      "cell_type": "markdown",
      "metadata": {
        "id": "VQ0F7JcmBK_2"
      },
      "source": [
        "If we want to create a signed graph to reflect positive/negative relationships between nodes we can add weighted edges to a directed graph by specifying a list of 3-tuples containing (source_node, target_node, value)."
      ]
    },
    {
      "cell_type": "code",
      "execution_count": 21,
      "metadata": {
        "colab": {
          "base_uri": "https://localhost:8080/"
        },
        "id": "HOHS9G7_BK_2",
        "outputId": "2c02b982-8586-4d97-c640-262fdee39327"
      },
      "outputs": [
        {
          "output_type": "execute_result",
          "data": {
            "text/plain": [
              "OutEdgeDataView([(1, 2, {'weight': -10}), (1, 3, {'weight': -5}), (1, 4, {'weight': 8}), (2, 1, {'weight': 0}), (2, 3, {'weight': 1}), (2, 4, {'weight': 2}), (3, 1, {'weight': -3}), (3, 4, {'weight': 5})])"
            ]
          },
          "metadata": {},
          "execution_count": 21
        }
      ],
      "source": [
        "DiG.add_weighted_edges_from(\n",
        "    [(1, 2, -10),(2, 1, 0),(2, 3, 1),(3, 1, -3),(1, 3, -5),\n",
        "    (1, 4, 8), (2, 4, 2), (3, 4, 5)]) # add 3-tuples containing <source node>, <target node>, <value>\n",
        "\n",
        "DiG.edges(data=True)"
      ]
    },
    {
      "cell_type": "markdown",
      "metadata": {
        "id": "88UygbwYBK_2"
      },
      "source": [
        "## Drawing graphs\n",
        "\n",
        "NetworkX provides various types of graph drawing tools for us to customize the visualization of graphs. For example, we can change the graph layout, node colors, size, edge types, colors, labels, fonts, etc. More details can be found [here](https://networkx.github.io/documentation/stable/reference/drawing.html).\n",
        "\n",
        "As a simple example, we can plot the previous graph we created using `nx.draw_networkx()`:"
      ]
    },
    {
      "cell_type": "code",
      "execution_count": 22,
      "metadata": {
        "colab": {
          "base_uri": "https://localhost:8080/",
          "height": 406
        },
        "id": "Nr9-YlRJBK_2",
        "outputId": "2770017b-8537-4728-a90e-bf9760b8e897"
      },
      "outputs": [
        {
          "output_type": "display_data",
          "data": {
            "text/plain": [
              "<Figure size 640x480 with 1 Axes>"
            ],
            "image/png": "[encoded data removed]"
          },
          "metadata": {}
        }
      ],
      "source": [
        "nx.draw_networkx(G)"
      ]
    },
    {
      "cell_type": "markdown",
      "metadata": {
        "id": "ONrZPYi3BK_2"
      },
      "source": [
        "`nx.draw_networkx()` is a very simple function for drawing graphs. Actually, `networkx` provides several parameters for customizing the appearance of the drawings.\n",
        "You can refer to this [page](https://networkx.github.io/documentation/stable/reference/generated/networkx.drawing.nx_pylab.draw_networkx.html) for detailed explanations.\n",
        "\n",
        "Some commonly used parameters are:\n",
        "\n",
        "- `pos`, the layout of a graph. There are several layouts to choose from, for example, `nx.circular_layout(G)`.\n",
        "- `with_labels`, whether to label the nodes or not\n",
        "- `node_color`, `node_shape`, `node_size`: specify the color, shape and sizes of nodes\n",
        "- `alpha`: specify the transparency of the plot\n",
        "\n",
        "We are now going to try out a few of the parameters."
      ]
    },
    {
      "cell_type": "code",
      "execution_count": 23,
      "metadata": {
        "colab": {
          "base_uri": "https://localhost:8080/",
          "height": 653
        },
        "id": "04tVAinnBK_3",
        "outputId": "7035864e-4377-44e3-b658-61e7a365e411"
      },
      "outputs": [
        {
          "output_type": "display_data",
          "data": {
            "text/plain": [
              "<Figure size 800x800 with 4 Axes>"
            ],
            "image/png": "[encoded data removed]"
          },
          "metadata": {}
        }
      ],
      "source": [
        "fig = plt.figure(figsize=(8, 8))\n",
        "plt.subplot(221)\n",
        "nx.draw_networkx(G, pos=nx.circular_layout(G), with_labels=True, node_shape='8', node_color='#FDA7D3', font_color='white')\n",
        "\n",
        "plt.subplot(222)\n",
        "nx.draw_networkx(G, pos=nx.spectral_layout(G), with_labels=False, node_shape='^', node_color='red', node_size=200)\n",
        "\n",
        "plt.subplot(223)\n",
        "nx.draw_networkx(G, pos=nx.random_layout(G), with_labels=True, alpha=0.3)\n",
        "\n",
        "plt.subplot(224)\n",
        "nx.draw_networkx(G, pos=nx.spring_layout(G), with_labels=True, edge_color=\"#00E10F\", node_color='#00C4FF')\n"
      ]
    },
    {
      "cell_type": "markdown",
      "metadata": {
        "id": "bAXihhoiBK_3"
      },
      "source": [
        "## Graph generators\n",
        "\n",
        "In addition to building a graph from scratch, we can use graph generators to conveniently create specific kinds of graphs. For example, NetworkX provides several popular small networks:"
      ]
    },
    {
      "cell_type": "code",
      "execution_count": 24,
      "metadata": {
        "colab": {
          "base_uri": "https://localhost:8080/",
          "height": 653
        },
        "id": "IJRP-N5YBK_3",
        "outputId": "d3c5c710-27e4-4275-99b0-aabb3320245e"
      },
      "outputs": [
        {
          "output_type": "display_data",
          "data": {
            "text/plain": [
              "<Figure size 800x800 with 4 Axes>"
            ],
            "image/png": "[encoded data removed]"
          },
          "metadata": {}
        }
      ],
      "source": [
        "fig = plt.figure(figsize=(8, 8))\n",
        "petersen = nx.petersen_graph()\n",
        "plt.subplot(221)\n",
        "nx.draw_networkx(petersen, with_labels=True, node_shape='8', node_color='#FDA7D3')\n",
        "\n",
        "tutte = nx.tutte_graph()\n",
        "plt.subplot(222)\n",
        "nx.draw_networkx(tutte, with_labels=False, node_color='#FDCC07', node_size=100)\n",
        "\n",
        "maze = nx.sedgewick_maze_graph()\n",
        "plt.subplot(223)\n",
        "nx.draw_networkx(maze, with_labels=True, alpha=0.5)\n",
        "\n",
        "tet = nx.karate_club_graph()\n",
        "plt.subplot(224)\n",
        "nx.draw_networkx(tet, with_labels=True, edge_color=\"#00E10F\", node_size=30)"
      ]
    },
    {
      "cell_type": "markdown",
      "metadata": {
        "id": "95zH0FiBBK_3"
      },
      "source": [
        "## Loading a graph from file\n",
        "\n",
        "In addition to manually configuring a graph ourselves, we can load an existing graph from a file. NetworkX supports a number of different formats. Refer to [this page](https://networkx.github.io/documentation/stable/reference/readwrite/index.html) for more information.\n",
        "\n",
        "For example, one of the methods is to load a graph from a GML(Graph Modelling Language) format file:\n",
        "```python\n",
        "nx.read_gml(path_to_file)\n",
        "```\n",
        "Here we load the `florentine_families.gml` file, which describes the relationships of famous families in Firenze, Italy."
      ]
    },
    {
      "cell_type": "code",
      "execution_count": 34,
      "metadata": {
        "colab": {
          "base_uri": "https://localhost:8080/"
        },
        "id": "iu1W6LIJBK_3",
        "outputId": "2ce7209b-c6e5-491a-e476-f7212de4ac44"
      },
      "outputs": [
        {
          "output_type": "execute_result",
          "data": {
            "text/plain": [
              "NodeView(('Acciaiuoli', 'Medici', 'Castellani', 'Peruzzi', 'Strozzi', 'Barbadori', 'Ridolfi', 'Tornabuoni', 'Albizzi', 'Salviati', 'Pazzi', 'Bischeri', 'Guadagni', 'Ginori', 'Lamberteschi'))"
            ]
          },
          "metadata": {},
          "execution_count": 34
        }
      ],
      "source": [
        "G = nx.read_gml('/florentine_families.gml')\n",
        "\n",
        "G.nodes"
      ]
    },
    {
      "cell_type": "markdown",
      "metadata": {
        "id": "3c0L98MlBK_3"
      },
      "source": [
        "We can also visualize the data:"
      ]
    },
    {
      "cell_type": "code",
      "execution_count": 35,
      "metadata": {
        "colab": {
          "base_uri": "https://localhost:8080/",
          "height": 406
        },
        "id": "P_csAvAdBK_4",
        "outputId": "ba8d357d-ca08-47c9-e67b-775829c5d8eb"
      },
      "outputs": [
        {
          "output_type": "display_data",
          "data": {
            "text/plain": [
              "<Figure size 640x480 with 1 Axes>"
            ],
            "image/png": "[encoded data removed]"
          },
          "metadata": {}
        }
      ],
      "source": [
        "nx.draw_networkx(G, with_labels=True, node_color='#00C4FF')"
      ]
    },
    {
      "cell_type": "markdown",
      "metadata": {
        "id": "4LM7Pj04BK_4"
      },
      "source": [
        "## Basic graphs properties\n",
        "\n",
        "Networkx allows us to measure various properties of a graph. Take the Florentine families graph in the previous section as an example, we can obtain the degree of each node using either `nx.degree(G)` or `G.degree()`."
      ]
    },
    {
      "cell_type": "code",
      "execution_count": 36,
      "metadata": {
        "colab": {
          "base_uri": "https://localhost:8080/"
        },
        "id": "-xps94KABK_4",
        "outputId": "55ac6576-a320-468a-b9fe-ce3c2d7b6337"
      },
      "outputs": [
        {
          "output_type": "execute_result",
          "data": {
            "text/plain": [
              "DegreeView({'Acciaiuoli': 1, 'Medici': 6, 'Castellani': 3, 'Peruzzi': 3, 'Strozzi': 4, 'Barbadori': 2, 'Ridolfi': 3, 'Tornabuoni': 3, 'Albizzi': 3, 'Salviati': 2, 'Pazzi': 1, 'Bischeri': 3, 'Guadagni': 4, 'Ginori': 1, 'Lamberteschi': 1})"
            ]
          },
          "metadata": {},
          "execution_count": 36
        }
      ],
      "source": [
        "nx.degree(G)"
      ]
    },
    {
      "cell_type": "code",
      "execution_count": 37,
      "metadata": {
        "colab": {
          "base_uri": "https://localhost:8080/"
        },
        "id": "NFsLEloxBK_4",
        "outputId": "30c91e3a-fe19-4b85-fdad-3b85a2143829"
      },
      "outputs": [
        {
          "output_type": "execute_result",
          "data": {
            "text/plain": [
              "DegreeView({'Acciaiuoli': 1, 'Medici': 6, 'Castellani': 3, 'Peruzzi': 3, 'Strozzi': 4, 'Barbadori': 2, 'Ridolfi': 3, 'Tornabuoni': 3, 'Albizzi': 3, 'Salviati': 2, 'Pazzi': 1, 'Bischeri': 3, 'Guadagni': 4, 'Ginori': 1, 'Lamberteschi': 1})"
            ]
          },
          "metadata": {},
          "execution_count": 37
        }
      ],
      "source": [
        "G.degree()"
      ]
    },
    {
      "cell_type": "markdown",
      "metadata": {
        "id": "jZ7xme6DBK_5"
      },
      "source": [
        "For a directed graph we can find the in & out degrees using the following."
      ]
    },
    {
      "cell_type": "code",
      "execution_count": 38,
      "metadata": {
        "colab": {
          "base_uri": "https://localhost:8080/"
        },
        "id": "yH_cDKKOBK_5",
        "outputId": "ad876279-5231-4fbf-9a85-8d72225f6194"
      },
      "outputs": [
        {
          "output_type": "execute_result",
          "data": {
            "text/plain": [
              "InDegreeView({1: 2, 2: 1, 3: 2, 4: 3})"
            ]
          },
          "metadata": {},
          "execution_count": 38
        }
      ],
      "source": [
        "DiG.in_degree()"
      ]
    },
    {
      "cell_type": "code",
      "execution_count": 39,
      "metadata": {
        "colab": {
          "base_uri": "https://localhost:8080/"
        },
        "id": "1RocshgHBK_5",
        "outputId": "6dcbbe06-f9fa-47d5-ff80-9d27ed8dc37c"
      },
      "outputs": [
        {
          "output_type": "execute_result",
          "data": {
            "text/plain": [
              "OutDegreeView({1: 3, 2: 3, 3: 2, 4: 0})"
            ]
          },
          "metadata": {},
          "execution_count": 39
        }
      ],
      "source": [
        "DiG.out_degree()"
      ]
    },
    {
      "cell_type": "markdown",
      "metadata": {
        "id": "EIcdmOkgBK_5"
      },
      "source": [
        "We can compute the diameter of the graph with `nx.diameter`:"
      ]
    },
    {
      "cell_type": "code",
      "execution_count": 40,
      "metadata": {
        "colab": {
          "base_uri": "https://localhost:8080/"
        },
        "id": "Xaef2Wv7BK_6",
        "outputId": "c44859ea-067f-4950-f843-663288687ce3"
      },
      "outputs": [
        {
          "output_type": "execute_result",
          "data": {
            "text/plain": [
              "5"
            ]
          },
          "metadata": {},
          "execution_count": 40
        }
      ],
      "source": [
        "nx.diameter(G)"
      ]
    },
    {
      "cell_type": "markdown",
      "metadata": {
        "id": "Sb7ljgA7BK_6"
      },
      "source": [
        "We can compute the shortest paths between all pairs of nodes using `nx.shortest_path`"
      ]
    },
    {
      "cell_type": "code",
      "execution_count": 41,
      "metadata": {
        "collapsed": true,
        "jupyter": {
          "outputs_hidden": true
        },
        "scrolled": true,
        "colab": {
          "base_uri": "https://localhost:8080/"
        },
        "id": "VfYuDNxcBK_6",
        "outputId": "565c1818-4b7c-4f45-d62a-de16ef03031c"
      },
      "outputs": [
        {
          "output_type": "execute_result",
          "data": {
            "text/plain": [
              "<generator object all_pairs_shortest_path at 0x7b4715865b70>"
            ]
          },
          "metadata": {},
          "execution_count": 41
        }
      ],
      "source": [
        "nx.shortest_path(G)"
      ]
    },
    {
      "cell_type": "markdown",
      "metadata": {
        "id": "Fz4bFzyuBK_6"
      },
      "source": [
        "When you primarily care about the actual distance rather than the shortest paths you can use `nx.shortest_path_length`, which returns 2-tuples consisting of (node identifier, dictionary where keys=node identifier & values = shortest path length)."
      ]
    },
    {
      "cell_type": "code",
      "execution_count": 42,
      "metadata": {
        "collapsed": true,
        "jupyter": {
          "outputs_hidden": true
        },
        "colab": {
          "base_uri": "https://localhost:8080/"
        },
        "id": "3E2NGIEjBK_6",
        "outputId": "7616f32b-82a4-4c5a-ee18-0882eae64ed7"
      },
      "outputs": [
        {
          "output_type": "execute_result",
          "data": {
            "text/plain": [
              "[('Acciaiuoli',\n",
              "  {'Acciaiuoli': 0,\n",
              "   'Medici': 1,\n",
              "   'Barbadori': 2,\n",
              "   'Ridolfi': 2,\n",
              "   'Tornabuoni': 2,\n",
              "   'Albizzi': 2,\n",
              "   'Salviati': 2,\n",
              "   'Castellani': 3,\n",
              "   'Strozzi': 3,\n",
              "   'Guadagni': 3,\n",
              "   'Ginori': 3,\n",
              "   'Pazzi': 3,\n",
              "   'Peruzzi': 4,\n",
              "   'Bischeri': 4,\n",
              "   'Lamberteschi': 4}),\n",
              " ('Medici',\n",
              "  {'Medici': 0,\n",
              "   'Acciaiuoli': 1,\n",
              "   'Barbadori': 1,\n",
              "   'Ridolfi': 1,\n",
              "   'Tornabuoni': 1,\n",
              "   'Albizzi': 1,\n",
              "   'Salviati': 1,\n",
              "   'Castellani': 2,\n",
              "   'Strozzi': 2,\n",
              "   'Guadagni': 2,\n",
              "   'Ginori': 2,\n",
              "   'Pazzi': 2,\n",
              "   'Peruzzi': 3,\n",
              "   'Bischeri': 3,\n",
              "   'Lamberteschi': 3})]"
            ]
          },
          "metadata": {},
          "execution_count": 42
        }
      ],
      "source": [
        "[i for i in nx.shortest_path_length(G)][:2]"
      ]
    },
    {
      "cell_type": "markdown",
      "metadata": {
        "id": "UdXUWAo5BK_6"
      },
      "source": [
        "You can also compute the average shortest path length in a graph:"
      ]
    },
    {
      "cell_type": "code",
      "execution_count": 43,
      "metadata": {
        "colab": {
          "base_uri": "https://localhost:8080/"
        },
        "id": "QU39qP-oBK_6",
        "outputId": "78f9031c-b43f-47f7-e227-711e856dfd34"
      },
      "outputs": [
        {
          "output_type": "execute_result",
          "data": {
            "text/plain": [
              "2.4857142857142858"
            ]
          },
          "metadata": {},
          "execution_count": 43
        }
      ],
      "source": [
        "nx.average_shortest_path_length(G)"
      ]
    },
    {
      "cell_type": "markdown",
      "metadata": {
        "id": "hqJI8WbXBK_7"
      },
      "source": [
        "We can determine the common neighbors shared by two nodes:"
      ]
    },
    {
      "cell_type": "code",
      "execution_count": 44,
      "metadata": {
        "colab": {
          "base_uri": "https://localhost:8080/"
        },
        "id": "UFU0eWR9BK_7",
        "outputId": "9142aa2a-780d-466e-cf47-2e1f54a138f3"
      },
      "outputs": [
        {
          "output_type": "execute_result",
          "data": {
            "text/plain": [
              "['Medici']"
            ]
          },
          "metadata": {},
          "execution_count": 44
        }
      ],
      "source": [
        "list(nx.common_neighbors(G, 'Ridolfi', 'Tornabuoni'))"
      ]
    },
    {
      "cell_type": "markdown",
      "metadata": {
        "id": "S6YeMRQEBK_7"
      },
      "source": [
        "Sometimes the graph may not be connected, and we may be interested in how many components it has. We can examine this with `number_connected_components`. To make its function more obvious, let's first remove the node \"Medici\" and see how it looks:"
      ]
    },
    {
      "cell_type": "code",
      "execution_count": 45,
      "metadata": {
        "colab": {
          "base_uri": "https://localhost:8080/",
          "height": 406
        },
        "id": "EPmLKxevBK_7",
        "outputId": "edc643ec-0b27-4564-aba0-c2d005b5688a"
      },
      "outputs": [
        {
          "output_type": "display_data",
          "data": {
            "text/plain": [
              "<Figure size 640x480 with 1 Axes>"
            ],
            "image/png": "[encoded data removed]"
          },
          "metadata": {}
        }
      ],
      "source": [
        "G.remove_node('Medici')\n",
        "nx.draw_networkx(G, with_labels=True, node_color='#00C4FF')"
      ]
    },
    {
      "cell_type": "markdown",
      "metadata": {
        "id": "sbFYA9PMBK_7"
      },
      "source": [
        "As we can see, the graph has 3 connected components. This result can be confirmed using the `number_connected_components` function:"
      ]
    },
    {
      "cell_type": "code",
      "execution_count": 46,
      "metadata": {
        "colab": {
          "base_uri": "https://localhost:8080/"
        },
        "id": "TWL46rA7BK_7",
        "outputId": "29081fed-3246-4a19-b7af-64925da81cd4"
      },
      "outputs": [
        {
          "output_type": "execute_result",
          "data": {
            "text/plain": [
              "3"
            ]
          },
          "metadata": {},
          "execution_count": 46
        }
      ],
      "source": [
        "nx.number_connected_components(G)"
      ]
    },
    {
      "cell_type": "markdown",
      "metadata": {
        "id": "zG80ucFQBK_8"
      },
      "source": [
        "When working with directed graphs we may be interested in the strongly or weakly connected components. NetworkX provides functionality to access generators that return sets of nodes in such components as well as convenience functions that simply return the number of such components in the graph."
      ]
    },
    {
      "cell_type": "code",
      "execution_count": 47,
      "metadata": {
        "colab": {
          "base_uri": "https://localhost:8080/"
        },
        "id": "j6Oo74e3BK_8",
        "outputId": "ae068d5e-e03b-4c14-f282-db08f92d02eb"
      },
      "outputs": [
        {
          "output_type": "execute_result",
          "data": {
            "text/plain": [
              "[{4}, {1, 2, 3}]"
            ]
          },
          "metadata": {},
          "execution_count": 47
        }
      ],
      "source": [
        "list(nx.strongly_connected_components(DiG))\n",
        "#[i for i in nx.strongly_connected_components(DiG)] # this is an equivalent list comprehension"
      ]
    },
    {
      "cell_type": "code",
      "execution_count": 48,
      "metadata": {
        "colab": {
          "base_uri": "https://localhost:8080/"
        },
        "id": "iG6ZJPv7BK_8",
        "outputId": "6abb59c9-df46-4c4e-8f36-ce5ba6b70985"
      },
      "outputs": [
        {
          "output_type": "execute_result",
          "data": {
            "text/plain": [
              "2"
            ]
          },
          "metadata": {},
          "execution_count": 48
        }
      ],
      "source": [
        "nx.number_strongly_connected_components(DiG)"
      ]
    },
    {
      "cell_type": "markdown",
      "metadata": {
        "id": "RGhOzkbtBK_8"
      },
      "source": [
        "## Algorithms\n",
        "\n",
        "`networkx` features an abundance of algorithms. In this part, we will work with several functions including some we'll use in assignment 1.\n",
        "\n",
        "We use a graph generator from NetworkX to create a random graph. Here we use the function [`nx.generators.random_graphs.dense_gnm_random_graph(n, m)`](https://networkx.github.io/documentation/stable/reference/generated/networkx.generators.random_graphs.dense_gnm_random_graph.html), which generates a random graph $G(V, E)$ with nodes $V$ and edges $E$, where $|V| = n$ and $|E|=m$. For our example, the graph will have 1,000 nodes and 5,000 edges. You do not need to worry about how $G$ is constructed. We will learn more about graph generative models in Week 2."
      ]
    },
    {
      "cell_type": "code",
      "execution_count": 49,
      "metadata": {
        "id": "EelWYe6IBK_8"
      },
      "outputs": [],
      "source": [
        "G = nx.generators.random_graphs.dense_gnm_random_graph(n=1000, m=5000)"
      ]
    },
    {
      "cell_type": "markdown",
      "metadata": {
        "id": "_IE8ktc_BK_8"
      },
      "source": [
        "To see the graph we have created, we could use `networkx_draw_network` to visualize it. However, for large graphs, this may not generate a very informative visualization. Let's try it:"
      ]
    },
    {
      "cell_type": "code",
      "execution_count": 65,
      "metadata": {
        "colab": {
          "base_uri": "https://localhost:8080/",
          "height": 406
        },
        "id": "M7kBkedsBK_8",
        "outputId": "66306415-400d-44e4-9b73-11879a1228f1"
      },
      "outputs": [
        {
          "output_type": "display_data",
          "data": {
            "text/plain": [
              "<Figure size 640x480 with 1 Axes>"
            ],
            "image/png": "[encoded data removed]"
          },
          "metadata": {}
        }
      ],
      "source": [
        "nx.draw_networkx(G, node_size=30, with_labels=False)"
      ]
    },
    {
      "cell_type": "markdown",
      "metadata": {
        "id": "-B-6qdxFBK_8"
      },
      "source": [
        "Instead, we can use different measures to explore the graph's characteristics. For example, we can use `networkx.degree_histogram` to group nodes by their degree and plot the degree distribution:"
      ]
    },
    {
      "cell_type": "code",
      "execution_count": 51,
      "metadata": {
        "colab": {
          "base_uri": "https://localhost:8080/",
          "height": 430
        },
        "id": "_0O6ykfOBK_8",
        "outputId": "bd68f75b-8307-4afe-9e6c-f0e365a3db1b"
      },
      "outputs": [
        {
          "output_type": "display_data",
          "data": {
            "text/plain": [
              "<Figure size 640x480 with 1 Axes>"
            ],
            "image/png": "[encoded data removed]"
          },
          "metadata": {}
        }
      ],
      "source": [
        "hist = nx.degree_histogram(G)\n",
        "plt.plot(hist);"
      ]
    },
    {
      "cell_type": "markdown",
      "metadata": {
        "id": "DSvz3zPEBK_9"
      },
      "source": [
        "### Breadth-first search\n",
        "Another way of assessing distance in a graph is through breadth-first search which calculates distances in terms of \"layers\" spreading outward from a given ego node. The ego node is indicated via the 'source' parameter and you can limit the depth of the search (how many layers) using 'depth_limit'."
      ]
    },
    {
      "cell_type": "code",
      "execution_count": 52,
      "metadata": {
        "colab": {
          "base_uri": "https://localhost:8080/"
        },
        "id": "qfTKg4utBK_9",
        "outputId": "13e17733-1ddd-4091-906f-928293282753"
      },
      "outputs": [
        {
          "output_type": "execute_result",
          "data": {
            "text/plain": [
              "OutEdgeView([(5, 61), (5, 66), (5, 118), (5, 148), (5, 478), (5, 488), (5, 605), (5, 649), (5, 701), (5, 759), (5, 767), (5, 817), (5, 833), (61, 2), (61, 79), (61, 184), (61, 224), (61, 276), (61, 280), (61, 311), (61, 390), (61, 423), (61, 440), (61, 481), (61, 495), (61, 743), (61, 786), (61, 845), (61, 855), (61, 996), (66, 29), (66, 203), (66, 412), (66, 650), (66, 820), (66, 838), (66, 863), (66, 898), (118, 13), (118, 139), (118, 241), (118, 281), (118, 284), (118, 386), (118, 555), (118, 562), (118, 593), (118, 668), (118, 686), (118, 789), (118, 809), (118, 844), (118, 915), (148, 171), (148, 181), (148, 355), (148, 472), (148, 540), (148, 632), (148, 666), (148, 930), (478, 172), (478, 291), (478, 349), (478, 352), (478, 553), (478, 563), (478, 723), (478, 766), (478, 991), (478, 999), (488, 33), (488, 48), (488, 273), (488, 509), (488, 572), (488, 803), (488, 865), (488, 933), (488, 962), (605, 25), (605, 145), (605, 282), (605, 338), (605, 446), (605, 490), (605, 584), (605, 609), (605, 665), (605, 787), (649, 45), (649, 204), (649, 213), (649, 218), (649, 304), (649, 578), (649, 761), (649, 846), (701, 20), (701, 71), (701, 123), (701, 154), (701, 160), (701, 177), (701, 227), (701, 251), (701, 345), (701, 548), (701, 602), (701, 698), (701, 867), (701, 887), (759, 100), (759, 132), (759, 212), (759, 219), (759, 253), (759, 439), (759, 458), (759, 721), (759, 955), (759, 994), (767, 295), (767, 362), (767, 367), (767, 676), (767, 842), (767, 889), (817, 92), (817, 368), (817, 516), (817, 618), (817, 690), (817, 851), (817, 970), (833, 231), (833, 389), (833, 456), (833, 480), (833, 523), (833, 944)])"
            ]
          },
          "metadata": {},
          "execution_count": 52
        }
      ],
      "source": [
        "this_tree = nx.bfs_tree(G, source=5, depth_limit=2)\n",
        "this_tree.edges()"
      ]
    },
    {
      "cell_type": "markdown",
      "metadata": {
        "id": "YP7VzIo6BK_9"
      },
      "source": [
        "### Centrality measures\n",
        "\n",
        "NetworkX provides several centrality algorithms to measure the importance of nodes. The complete list of functions can be found [here](https://networkx.github.io/documentation/stable/reference/algorithms/centrality.html). In this tutorial, we focus on the three measurements,\n",
        "\n",
        "```python\n",
        "nx.degree_centrality\n",
        "nx.closeness_centrality\n",
        "nx.betweenness_centrality\n",
        "nx.pagerank\n",
        "nx.hits\n",
        "```\n",
        "\n",
        "`nx.degree_centrality` returns a dictionary where keys are the name of nodes and values are the node's degree centrality value. For example,"
      ]
    },
    {
      "cell_type": "code",
      "execution_count": 53,
      "metadata": {
        "colab": {
          "base_uri": "https://localhost:8080/"
        },
        "id": "_VEPa--7BK_9",
        "outputId": "9cc260d3-cb67-4874-e6f6-3338d629f5c6"
      },
      "outputs": [
        {
          "output_type": "stream",
          "name": "stdout",
          "text": [
            "The degree centrality of node 42 is 0.011011011011011011\n"
          ]
        }
      ],
      "source": [
        "deg_dict = nx.degree_centrality(G)\n",
        "print(f\"The degree centrality of node {42} is {deg_dict[42]}\")"
      ]
    },
    {
      "cell_type": "markdown",
      "metadata": {
        "id": "JfjQ_z-jBK_9"
      },
      "source": [
        "Similarly, we can calculate in and out-degree centrality for a directed graph with `nx.in_degree_centrality()` and `nx.out_degree_centrality`, respectively."
      ]
    },
    {
      "cell_type": "code",
      "execution_count": 54,
      "metadata": {
        "colab": {
          "base_uri": "https://localhost:8080/"
        },
        "id": "Bn93g3BABK_9",
        "outputId": "2dfb9539-9d09-46ea-d097-1588da7358a0"
      },
      "outputs": [
        {
          "output_type": "execute_result",
          "data": {
            "text/plain": [
              "{1: 0.6666666666666666, 2: 0.3333333333333333, 3: 0.6666666666666666, 4: 1.0}"
            ]
          },
          "metadata": {},
          "execution_count": 54
        }
      ],
      "source": [
        "nx.in_degree_centrality(DiG)"
      ]
    },
    {
      "cell_type": "code",
      "execution_count": 55,
      "metadata": {
        "colab": {
          "base_uri": "https://localhost:8080/"
        },
        "id": "rV1YHclWBK_9",
        "outputId": "68145a97-ea56-41ff-9fcc-7f2b51f222fd"
      },
      "outputs": [
        {
          "output_type": "execute_result",
          "data": {
            "text/plain": [
              "{1: 1.0, 2: 1.0, 3: 0.6666666666666666, 4: 0.0}"
            ]
          },
          "metadata": {},
          "execution_count": 55
        }
      ],
      "source": [
        "nx.out_degree_centrality(DiG)"
      ]
    },
    {
      "cell_type": "markdown",
      "metadata": {
        "id": "0vcnPrOpBK_-"
      },
      "source": [
        "`closeness_centrality` returns a dictionary where keys are the names of the nodes and the values are the calculated centrality values."
      ]
    },
    {
      "cell_type": "code",
      "execution_count": 56,
      "metadata": {
        "colab": {
          "base_uri": "https://localhost:8080/"
        },
        "id": "_cTo6KThBK_-",
        "outputId": "2350cdb3-5410-4238-aaba-d5160845d10b"
      },
      "outputs": [
        {
          "output_type": "stream",
          "name": "stdout",
          "text": [
            "The closeness centrality of node 42 is 0.3108827567823514\n"
          ]
        }
      ],
      "source": [
        "clos_dict = nx.closeness_centrality(G)\n",
        "print(f\"The closeness centrality of node {42} is {clos_dict[42]}\")"
      ]
    },
    {
      "cell_type": "markdown",
      "metadata": {
        "id": "4vCdZXSdBK_-"
      },
      "source": [
        "`betweenness_centrality` returns a dictionary where keys are the names of the nodes and the values are the calculated centrality values."
      ]
    },
    {
      "cell_type": "code",
      "execution_count": 57,
      "metadata": {
        "colab": {
          "base_uri": "https://localhost:8080/"
        },
        "id": "HKnZGL55BK_-",
        "outputId": "2af4db74-7a6c-454e-b019-2192db4e3486"
      },
      "outputs": [
        {
          "output_type": "stream",
          "name": "stdout",
          "text": [
            "The betweenness centrality of node 42 is 0.0026126191751733845\n"
          ]
        }
      ],
      "source": [
        "bet_dict = nx.betweenness_centrality(G)\n",
        "print(f\"The betweenness centrality of node {42} is {bet_dict[42]}\")"
      ]
    },
    {
      "cell_type": "markdown",
      "metadata": {
        "id": "AAB42sEFBK_-"
      },
      "source": [
        "Betweenness centrality is normalized and ignores endpoints by default. However, you can easily change that through the 'normalized' and 'endpoints' parameters as shown below. Also, you can limit the calculation to a sample of nodes using the 'k' parameter."
      ]
    },
    {
      "cell_type": "code",
      "execution_count": 58,
      "metadata": {
        "colab": {
          "base_uri": "https://localhost:8080/"
        },
        "id": "96ijByZEBK_-",
        "outputId": "8aafa039-c1a2-4c88-fab1-0c648e30bcb7"
      },
      "outputs": [
        {
          "output_type": "stream",
          "name": "stdout",
          "text": [
            "The unnormalized betweenness centrality of node 42 without endpoints is 852.7394343442934\n"
          ]
        }
      ],
      "source": [
        "bet_dict = nx.betweenness_centrality(G, normalized=False, endpoints=False, k=25)\n",
        "print(f\"The unnormalized betweenness centrality of node {42} without endpoints is {bet_dict[42]}\")"
      ]
    },
    {
      "cell_type": "markdown",
      "metadata": {
        "id": "qfF3z8G9BK__"
      },
      "source": [
        "You can also specify a particular set of source and target nodes to compute betweenness values."
      ]
    },
    {
      "cell_type": "code",
      "execution_count": 59,
      "metadata": {
        "colab": {
          "base_uri": "https://localhost:8080/"
        },
        "id": "uuL2mTXEBK__",
        "outputId": "29ca6708-23b6-4e2b-995d-66ac21825372"
      },
      "outputs": [
        {
          "output_type": "stream",
          "name": "stdout",
          "text": [
            "The closeness centrality of node 42 is now 4.003748539042657\n"
          ]
        }
      ],
      "source": [
        "bet_dict = nx.betweenness_centrality_subset(G, sources = list(range(40)), targets = list(range(100,200)))\n",
        "print(f\"The closeness centrality of node {42} is now {bet_dict[42]}\")"
      ]
    },
    {
      "cell_type": "markdown",
      "metadata": {
        "id": "maT8dOvRBK__"
      },
      "source": [
        "For PageRank we need to specify a damping value (which is set to 0.85 by default). For example, we can set the damping value to 0.9:"
      ]
    },
    {
      "cell_type": "code",
      "execution_count": 60,
      "metadata": {
        "colab": {
          "base_uri": "https://localhost:8080/"
        },
        "id": "Z9wgr1MKBK__",
        "outputId": "8d35ad41-6572-492e-e004-1049e30b0e5a"
      },
      "outputs": [
        {
          "output_type": "stream",
          "name": "stdout",
          "text": [
            "The pagerank value of node 0 is 0.0010717159776953448\n"
          ]
        }
      ],
      "source": [
        "pagerank_dict = nx.pagerank(G, alpha=0.9)\n",
        "print(f\"The pagerank value of node {0} is {pagerank_dict[0]}\")"
      ]
    },
    {
      "cell_type": "markdown",
      "metadata": {
        "id": "Pl3yCaj0BK__"
      },
      "source": [
        "`networkx.hits` returns HITS hub and authority scores for nodes as a pair of dictionaries `(dict_of_hub, dict_of_authority)`. Since HITS runs iteratively, you need to specify a `max_iter` to indicate the number of iterations you want to run."
      ]
    },
    {
      "cell_type": "code",
      "execution_count": 61,
      "metadata": {
        "colab": {
          "base_uri": "https://localhost:8080/"
        },
        "id": "EzqUPl68BK__",
        "outputId": "2491238b-5da2-4c42-d5d3-63d5431dedfb"
      },
      "outputs": [
        {
          "output_type": "stream",
          "name": "stdout",
          "text": [
            "The HITS hub value of node 42 is 0.001025194772249969\n",
            "The HITS authority value of node 0 is 0.0012782621718983103\n"
          ]
        }
      ],
      "source": [
        "hub, authority = nx.hits(G, max_iter=200)\n",
        "print(f\"The HITS hub value of node {42} is {hub[42]}\")\n",
        "print(f\"The HITS authority value of node {0} is {authority[0]}\")"
      ]
    },
    {
      "cell_type": "markdown",
      "metadata": {
        "id": "OiUfJhF-BLAA"
      },
      "source": [
        "### Clustering\n",
        "\n",
        "NetworkX clustering algorithms characterize the number of triangles in a graph.\n",
        "\n",
        "The list of algorithms can be found [here](https://networkx.github.io/documentation/stable/reference/algorithms/clustering.html)."
      ]
    },
    {
      "cell_type": "markdown",
      "metadata": {
        "id": "gRf3A_O-BLAA"
      },
      "source": [
        "We can calculate the clustering coefficient for every node in the graph:"
      ]
    },
    {
      "cell_type": "code",
      "execution_count": 62,
      "metadata": {
        "collapsed": true,
        "jupyter": {
          "outputs_hidden": true
        },
        "scrolled": true,
        "colab": {
          "base_uri": "https://localhost:8080/"
        },
        "id": "vM95qMP1BLAA",
        "outputId": "874de384-f88b-4797-fcca-4b16359f7c1c"
      },
      "outputs": [
        {
          "output_type": "execute_result",
          "data": {
            "text/plain": [
              "{0: 0.01818181818181818,\n",
              " 1: 0.01098901098901099,\n",
              " 2: 0,\n",
              " 3: 0,\n",
              " 4: 0,\n",
              " 5: 0,\n",
              " 6: 0.01818181818181818,\n",
              " 7: 0,\n",
              " 8: 0,\n",
              " 9: 0,\n",
              " 10: 0.02564102564102564,\n",
              " 11: 0.027777777777777776,\n",
              " 12: 0.015151515151515152,\n",
              " 13: 0,\n",
              " 14: 0.022222222222222223,\n",
              " 15: 0.01282051282051282,\n",
              " 16: 0,\n",
              " 17: 0,\n",
              " 18: 0,\n",
              " 19: 0.01282051282051282,\n",
              " 20: 0,\n",
              " 21: 0.022222222222222223,\n",
              " 22: 0.009523809523809525,\n",
              " 23: 0,\n",
              " 24: 0,\n",
              " 25: 0,\n",
              " 26: 0,\n",
              " 27: 0.016666666666666666,\n",
              " 28: 0.06666666666666667,\n",
              " 29: 0.01098901098901099,\n",
              " 30: 0,\n",
              " 31: 0.01282051282051282,\n",
              " 32: 0.03571428571428571,\n",
              " 33: 0.01282051282051282,\n",
              " 34: 0.06666666666666667,\n",
              " 35: 0.1,\n",
              " 36: 0,\n",
              " 37: 0,\n",
              " 38: 0,\n",
              " 39: 0.022222222222222223,\n",
              " 40: 0,\n",
              " 41: 0,\n",
              " 42: 0,\n",
              " 43: 0,\n",
              " 44: 0,\n",
              " 45: 0.022058823529411766,\n",
              " 46: 0.027777777777777776,\n",
              " 47: 0,\n",
              " 48: 0.006535947712418301,\n",
              " 49: 0,\n",
              " 50: 0,\n",
              " 51: 0,\n",
              " 52: 0,\n",
              " 53: 0.015151515151515152,\n",
              " 54: 0,\n",
              " 55: 0.015151515151515152,\n",
              " 56: 0,\n",
              " 57: 0,\n",
              " 58: 0,\n",
              " 59: 0,\n",
              " 60: 0,\n",
              " 61: 0.013071895424836602,\n",
              " 62: 0,\n",
              " 63: 0,\n",
              " 64: 0,\n",
              " 65: 0,\n",
              " 66: 0,\n",
              " 67: 0,\n",
              " 68: 0,\n",
              " 69: 0,\n",
              " 70: 0.01818181818181818,\n",
              " 71: 0,\n",
              " 72: 0,\n",
              " 73: 0.027777777777777776,\n",
              " 74: 0.03636363636363636,\n",
              " 75: 0,\n",
              " 76: 0,\n",
              " 77: 0,\n",
              " 78: 0.015151515151515152,\n",
              " 79: 0.0196078431372549,\n",
              " 80: 0.027777777777777776,\n",
              " 81: 0,\n",
              " 82: 0,\n",
              " 83: 0,\n",
              " 84: 0,\n",
              " 85: 0,\n",
              " 86: 0,\n",
              " 87: 0,\n",
              " 88: 0,\n",
              " 89: 0.01098901098901099,\n",
              " 90: 0.1,\n",
              " 91: 0.06666666666666667,\n",
              " 92: 0,\n",
              " 93: 0,\n",
              " 94: 0.008333333333333333,\n",
              " 95: 0,\n",
              " 96: 0,\n",
              " 97: 0.01818181818181818,\n",
              " 98: 0,\n",
              " 99: 0,\n",
              " 100: 0.05555555555555555,\n",
              " 101: 0.016666666666666666,\n",
              " 102: 0.01904761904761905,\n",
              " 103: 0,\n",
              " 104: 0,\n",
              " 105: 0,\n",
              " 106: 0,\n",
              " 107: 0,\n",
              " 108: 0,\n",
              " 109: 0.044444444444444446,\n",
              " 110: 0,\n",
              " 111: 0,\n",
              " 112: 0,\n",
              " 113: 0.03571428571428571,\n",
              " 114: 0.007352941176470588,\n",
              " 115: 0,\n",
              " 116: 0,\n",
              " 117: 0,\n",
              " 118: 0,\n",
              " 119: 0,\n",
              " 120: 0.022222222222222223,\n",
              " 121: 0,\n",
              " 122: 0.022222222222222223,\n",
              " 123: 0.015151515151515152,\n",
              " 124: 0,\n",
              " 125: 0.009523809523809525,\n",
              " 126: 0,\n",
              " 127: 0.01818181818181818,\n",
              " 128: 0,\n",
              " 129: 0.009523809523809525,\n",
              " 130: 0,\n",
              " 131: 0.022222222222222223,\n",
              " 132: 0.015151515151515152,\n",
              " 133: 0.03571428571428571,\n",
              " 134: 0,\n",
              " 135: 0,\n",
              " 136: 0,\n",
              " 137: 0,\n",
              " 138: 0,\n",
              " 139: 0.022222222222222223,\n",
              " 140: 0.027777777777777776,\n",
              " 141: 0,\n",
              " 142: 0,\n",
              " 143: 0,\n",
              " 144: 0,\n",
              " 145: 0,\n",
              " 146: 0.02564102564102564,\n",
              " 147: 0,\n",
              " 148: 0,\n",
              " 149: 0.022222222222222223,\n",
              " 150: 0,\n",
              " 151: 0.027777777777777776,\n",
              " 152: 0,\n",
              " 153: 0,\n",
              " 154: 0,\n",
              " 155: 0,\n",
              " 156: 0.03571428571428571,\n",
              " 157: 0,\n",
              " 158: 0,\n",
              " 159: 0,\n",
              " 160: 0,\n",
              " 161: 0,\n",
              " 162: 0.025,\n",
              " 163: 0,\n",
              " 164: 0,\n",
              " 165: 0,\n",
              " 166: 0.047619047619047616,\n",
              " 167: 0.01818181818181818,\n",
              " 168: 0.015151515151515152,\n",
              " 169: 0,\n",
              " 170: 0.01282051282051282,\n",
              " 171: 0.01818181818181818,\n",
              " 172: 0.03571428571428571,\n",
              " 173: 0,\n",
              " 174: 0,\n",
              " 175: 0.015151515151515152,\n",
              " 176: 0.013071895424836602,\n",
              " 177: 0.007352941176470588,\n",
              " 178: 0,\n",
              " 179: 0,\n",
              " 180: 0.01098901098901099,\n",
              " 181: 0.01818181818181818,\n",
              " 182: 0,\n",
              " 183: 0,\n",
              " 184: 0,\n",
              " 185: 0.015151515151515152,\n",
              " 186: 0.03571428571428571,\n",
              " 187: 0,\n",
              " 188: 0,\n",
              " 189: 0,\n",
              " 190: 0,\n",
              " 191: 0,\n",
              " 192: 0.022222222222222223,\n",
              " 193: 0.01098901098901099,\n",
              " 194: 0,\n",
              " 195: 0.047619047619047616,\n",
              " 196: 0.015151515151515152,\n",
              " 197: 0.03571428571428571,\n",
              " 198: 0,\n",
              " 199: 0,\n",
              " 200: 0,\n",
              " 201: 0,\n",
              " 202: 0.022222222222222223,\n",
              " 203: 0.027777777777777776,\n",
              " 204: 0,\n",
              " 205: 0,\n",
              " 206: 0,\n",
              " 207: 0,\n",
              " 208: 0,\n",
              " 209: 0,\n",
              " 210: 0,\n",
              " 211: 0,\n",
              " 212: 0,\n",
              " 213: 0.038461538461538464,\n",
              " 214: 0,\n",
              " 215: 0,\n",
              " 216: 0.022222222222222223,\n",
              " 217: 0,\n",
              " 218: 0.030303030303030304,\n",
              " 219: 0,\n",
              " 220: 0,\n",
              " 221: 0.01098901098901099,\n",
              " 222: 0.030303030303030304,\n",
              " 223: 0.022222222222222223,\n",
              " 224: 0.01282051282051282,\n",
              " 225: 0.03571428571428571,\n",
              " 226: 0,\n",
              " 227: 0.01282051282051282,\n",
              " 228: 0.027777777777777776,\n",
              " 229: 0,\n",
              " 230: 0.006535947712418301,\n",
              " 231: 0.027777777777777776,\n",
              " 232: 0.02197802197802198,\n",
              " 233: 0.03636363636363636,\n",
              " 234: 0,\n",
              " 235: 0,\n",
              " 236: 0,\n",
              " 237: 0,\n",
              " 238: 0.16666666666666666,\n",
              " 239: 0.027777777777777776,\n",
              " 240: 0,\n",
              " 241: 0,\n",
              " 242: 0,\n",
              " 243: 0,\n",
              " 244: 0,\n",
              " 245: 0,\n",
              " 246: 0,\n",
              " 247: 0,\n",
              " 248: 0,\n",
              " 249: 0,\n",
              " 250: 0,\n",
              " 251: 0.01282051282051282,\n",
              " 252: 0,\n",
              " 253: 0.022222222222222223,\n",
              " 254: 0.01098901098901099,\n",
              " 255: 0.03296703296703297,\n",
              " 256: 0,\n",
              " 257: 0,\n",
              " 258: 0.027777777777777776,\n",
              " 259: 0,\n",
              " 260: 0,\n",
              " 261: 0,\n",
              " 262: 0.01282051282051282,\n",
              " 263: 0,\n",
              " 264: 0,\n",
              " 265: 0.03571428571428571,\n",
              " 266: 0,\n",
              " 267: 0,\n",
              " 268: 0.015151515151515152,\n",
              " 269: 0.01818181818181818,\n",
              " 270: 0,\n",
              " 271: 0.015151515151515152,\n",
              " 272: 0.022222222222222223,\n",
              " 273: 0,\n",
              " 274: 0,\n",
              " 275: 0,\n",
              " 276: 0.01818181818181818,\n",
              " 277: 0.03571428571428571,\n",
              " 278: 0,\n",
              " 279: 0,\n",
              " 280: 0,\n",
              " 281: 0,\n",
              " 282: 0,\n",
              " 283: 0.027777777777777776,\n",
              " 284: 0.015151515151515152,\n",
              " 285: 0,\n",
              " 286: 0,\n",
              " 287: 0,\n",
              " 288: 0,\n",
              " 289: 0,\n",
              " 290: 0,\n",
              " 291: 0,\n",
              " 292: 0.047619047619047616,\n",
              " 293: 0.009523809523809525,\n",
              " 294: 0,\n",
              " 295: 0,\n",
              " 296: 0,\n",
              " 297: 0.01818181818181818,\n",
              " 298: 0,\n",
              " 299: 0.03571428571428571,\n",
              " 300: 0,\n",
              " 301: 0,\n",
              " 302: 0,\n",
              " 303: 0.01818181818181818,\n",
              " 304: 0,\n",
              " 305: 0,\n",
              " 306: 0,\n",
              " 307: 0.02564102564102564,\n",
              " 308: 0.022222222222222223,\n",
              " 309: 0.022222222222222223,\n",
              " 310: 0,\n",
              " 311: 0,\n",
              " 312: 0,\n",
              " 313: 0,\n",
              " 314: 0,\n",
              " 315: 0,\n",
              " 316: 0.015151515151515152,\n",
              " 317: 0.007352941176470588,\n",
              " 318: 0.015151515151515152,\n",
              " 319: 0,\n",
              " 320: 0,\n",
              " 321: 0,\n",
              " 322: 0,\n",
              " 323: 0,\n",
              " 324: 0.027777777777777776,\n",
              " 325: 0.044444444444444446,\n",
              " 326: 0.01818181818181818,\n",
              " 327: 0,\n",
              " 328: 0.03636363636363636,\n",
              " 329: 0.007352941176470588,\n",
              " 330: 0,\n",
              " 331: 0,\n",
              " 332: 0.01282051282051282,\n",
              " 333: 0.027777777777777776,\n",
              " 334: 0,\n",
              " 335: 0,\n",
              " 336: 0,\n",
              " 337: 0,\n",
              " 338: 0,\n",
              " 339: 0.01282051282051282,\n",
              " 340: 0,\n",
              " 341: 0,\n",
              " 342: 0,\n",
              " 343: 0,\n",
              " 344: 0,\n",
              " 345: 0.027777777777777776,\n",
              " 346: 0,\n",
              " 347: 0,\n",
              " 348: 0,\n",
              " 349: 0.022058823529411766,\n",
              " 350: 0,\n",
              " 351: 0,\n",
              " 352: 0,\n",
              " 353: 0,\n",
              " 354: 0,\n",
              " 355: 0,\n",
              " 356: 0,\n",
              " 357: 0,\n",
              " 358: 0,\n",
              " 359: 0.08888888888888889,\n",
              " 360: 0,\n",
              " 361: 0,\n",
              " 362: 0.022222222222222223,\n",
              " 363: 0,\n",
              " 364: 0,\n",
              " 365: 0,\n",
              " 366: 0.015151515151515152,\n",
              " 367: 0.07142857142857142,\n",
              " 368: 0,\n",
              " 369: 0,\n",
              " 370: 0.015151515151515152,\n",
              " 371: 0,\n",
              " 372: 0,\n",
              " 373: 0,\n",
              " 374: 0,\n",
              " 375: 0,\n",
              " 376: 0.030303030303030304,\n",
              " 377: 0,\n",
              " 378: 0,\n",
              " 379: 0,\n",
              " 380: 0,\n",
              " 381: 0.01282051282051282,\n",
              " 382: 0,\n",
              " 383: 0,\n",
              " 384: 0,\n",
              " 385: 0,\n",
              " 386: 0.027777777777777776,\n",
              " 387: 0.022222222222222223,\n",
              " 388: 0,\n",
              " 389: 0.022222222222222223,\n",
              " 390: 0,\n",
              " 391: 0,\n",
              " 392: 0,\n",
              " 393: 0.015151515151515152,\n",
              " 394: 0.01904761904761905,\n",
              " 395: 0.01818181818181818,\n",
              " 396: 0,\n",
              " 397: 0.03636363636363636,\n",
              " 398: 0,\n",
              " 399: 0.016666666666666666,\n",
              " 400: 0,\n",
              " 401: 0,\n",
              " 402: 0,\n",
              " 403: 0,\n",
              " 404: 0,\n",
              " 405: 0,\n",
              " 406: 0.045454545454545456,\n",
              " 407: 0,\n",
              " 408: 0,\n",
              " 409: 0.03571428571428571,\n",
              " 410: 0.015151515151515152,\n",
              " 411: 0,\n",
              " 412: 0.06666666666666667,\n",
              " 413: 0.022222222222222223,\n",
              " 414: 0.015151515151515152,\n",
              " 415: 0,\n",
              " 416: 0,\n",
              " 417: 0,\n",
              " 418: 0.022222222222222223,\n",
              " 419: 0,\n",
              " 420: 0,\n",
              " 421: 0,\n",
              " 422: 0.01818181818181818,\n",
              " 423: 0,\n",
              " 424: 0.02564102564102564,\n",
              " 425: 0.01904761904761905,\n",
              " 426: 0,\n",
              " 427: 0,\n",
              " 428: 0,\n",
              " 429: 0,\n",
              " 430: 0,\n",
              " 431: 0,\n",
              " 432: 0,\n",
              " 433: 0,\n",
              " 434: 0,\n",
              " 435: 0.01098901098901099,\n",
              " 436: 0,\n",
              " 437: 0,\n",
              " 438: 0,\n",
              " 439: 0,\n",
              " 440: 0.01818181818181818,\n",
              " 441: 0.03571428571428571,\n",
              " 442: 0,\n",
              " 443: 0,\n",
              " 444: 0.01098901098901099,\n",
              " 445: 0.027777777777777776,\n",
              " 446: 0.047619047619047616,\n",
              " 447: 0.027777777777777776,\n",
              " 448: 0.022222222222222223,\n",
              " 449: 0,\n",
              " 450: 0,\n",
              " 451: 0,\n",
              " 452: 0,\n",
              " 453: 0.013071895424836602,\n",
              " 454: 0,\n",
              " 455: 0,\n",
              " 456: 0,\n",
              " 457: 0.03636363636363636,\n",
              " 458: 0.022222222222222223,\n",
              " 459: 0,\n",
              " 460: 0,\n",
              " 461: 0,\n",
              " 462: 0.09523809523809523,\n",
              " 463: 0.027777777777777776,\n",
              " 464: 0,\n",
              " 465: 0,\n",
              " 466: 0.05555555555555555,\n",
              " 467: 0,\n",
              " 468: 0,\n",
              " 469: 0,\n",
              " 470: 0.01098901098901099,\n",
              " 471: 0,\n",
              " 472: 0.015151515151515152,\n",
              " 473: 0,\n",
              " 474: 0.05555555555555555,\n",
              " 475: 0,\n",
              " 476: 0,\n",
              " 477: 0.022222222222222223,\n",
              " 478: 0,\n",
              " 479: 0,\n",
              " 480: 0,\n",
              " 481: 0.01818181818181818,\n",
              " 482: 0.01818181818181818,\n",
              " 483: 0,\n",
              " 484: 0,\n",
              " 485: 0,\n",
              " 486: 0,\n",
              " 487: 0,\n",
              " 488: 0.022222222222222223,\n",
              " 489: 0,\n",
              " 490: 0,\n",
              " 491: 0,\n",
              " 492: 0,\n",
              " 493: 0.022222222222222223,\n",
              " 494: 0,\n",
              " 495: 0.027777777777777776,\n",
              " 496: 0.022222222222222223,\n",
              " 497: 0,\n",
              " 498: 0.01818181818181818,\n",
              " 499: 0.027777777777777776,\n",
              " 500: 0.015151515151515152,\n",
              " 501: 0,\n",
              " 502: 0,\n",
              " 503: 0,\n",
              " 504: 0,\n",
              " 505: 0.047619047619047616,\n",
              " 506: 0.06666666666666667,\n",
              " 507: 0,\n",
              " 508: 0,\n",
              " 509: 0,\n",
              " 510: 0.022222222222222223,\n",
              " 511: 0,\n",
              " 512: 0,\n",
              " 513: 0,\n",
              " 514: 0,\n",
              " 515: 0,\n",
              " 516: 0,\n",
              " 517: 0,\n",
              " 518: 0,\n",
              " 519: 0,\n",
              " 520: 0,\n",
              " 521: 0,\n",
              " 522: 0.01818181818181818,\n",
              " 523: 0.015151515151515152,\n",
              " 524: 0,\n",
              " 525: 0.027777777777777776,\n",
              " 526: 0.03571428571428571,\n",
              " 527: 0.02564102564102564,\n",
              " 528: 0,\n",
              " 529: 0,\n",
              " 530: 0,\n",
              " 531: 0,\n",
              " 532: 0.009523809523809525,\n",
              " 533: 0.006535947712418301,\n",
              " 534: 0.030303030303030304,\n",
              " 535: 0,\n",
              " 536: 0,\n",
              " 537: 0,\n",
              " 538: 0,\n",
              " 539: 0,\n",
              " 540: 0,\n",
              " 541: 0,\n",
              " 542: 0,\n",
              " 543: 0,\n",
              " 544: 0.02564102564102564,\n",
              " 545: 0,\n",
              " 546: 0,\n",
              " 547: 0.016666666666666666,\n",
              " 548: 0.01098901098901099,\n",
              " 549: 0,\n",
              " 550: 0,\n",
              " 551: 0,\n",
              " 552: 0.07142857142857142,\n",
              " 553: 0,\n",
              " 554: 0.01818181818181818,\n",
              " 555: 0.01818181818181818,\n",
              " 556: 0,\n",
              " 557: 0,\n",
              " 558: 0,\n",
              " 559: 0.022222222222222223,\n",
              " 560: 0,\n",
              " 561: 0,\n",
              " 562: 0,\n",
              " 563: 0.01818181818181818,\n",
              " 564: 0,\n",
              " 565: 0,\n",
              " 566: 0.022222222222222223,\n",
              " 567: 0,\n",
              " 568: 0.1,\n",
              " 569: 0,\n",
              " 570: 0,\n",
              " 571: 0,\n",
              " 572: 0.01282051282051282,\n",
              " 573: 0,\n",
              " 574: 0,\n",
              " 575: 0,\n",
              " 576: 0,\n",
              " 577: 0.016666666666666666,\n",
              " 578: 0,\n",
              " 579: 0,\n",
              " 580: 0,\n",
              " 581: 0.02564102564102564,\n",
              " 582: 0.022222222222222223,\n",
              " 583: 0,\n",
              " 584: 0.044444444444444446,\n",
              " 585: 0.09523809523809523,\n",
              " 586: 0.01098901098901099,\n",
              " 587: 0.022222222222222223,\n",
              " 588: 0.015151515151515152,\n",
              " 589: 0,\n",
              " 590: 0.015151515151515152,\n",
              " 591: 0,\n",
              " 592: 0,\n",
              " 593: 0,\n",
              " 594: 0.01904761904761905,\n",
              " 595: 0.01818181818181818,\n",
              " 596: 0,\n",
              " 597: 0,\n",
              " 598: 0.030303030303030304,\n",
              " 599: 0,\n",
              " 600: 0,\n",
              " 601: 0,\n",
              " 602: 0,\n",
              " 603: 0.045454545454545456,\n",
              " 604: 0,\n",
              " 605: 0.01818181818181818,\n",
              " 606: 0.027777777777777776,\n",
              " 607: 0.01818181818181818,\n",
              " 608: 0.03636363636363636,\n",
              " 609: 0,\n",
              " 610: 0.044444444444444446,\n",
              " 611: 0,\n",
              " 612: 0,\n",
              " 613: 0.015151515151515152,\n",
              " 614: 0,\n",
              " 615: 0,\n",
              " 616: 0,\n",
              " 617: 0.05454545454545454,\n",
              " 618: 0.01818181818181818,\n",
              " 619: 0,\n",
              " 620: 0.014705882352941176,\n",
              " 621: 0,\n",
              " 622: 0,\n",
              " 623: 0,\n",
              " 624: 0.01282051282051282,\n",
              " 625: 0,\n",
              " 626: 0,\n",
              " 627: 0.009523809523809525,\n",
              " 628: 0,\n",
              " 629: 0,\n",
              " 630: 0.01904761904761905,\n",
              " 631: 0,\n",
              " 632: 0.022222222222222223,\n",
              " 633: 0,\n",
              " 634: 0,\n",
              " 635: 0.03571428571428571,\n",
              " 636: 0,\n",
              " 637: 0.03571428571428571,\n",
              " 638: 0.015151515151515152,\n",
              " 639: 0.008333333333333333,\n",
              " 640: 0.022222222222222223,\n",
              " 641: 0,\n",
              " 642: 0,\n",
              " 643: 0,\n",
              " 644: 0,\n",
              " 645: 0,\n",
              " 646: 0.02564102564102564,\n",
              " 647: 0,\n",
              " 648: 0,\n",
              " 649: 0,\n",
              " 650: 0,\n",
              " 651: 0,\n",
              " 652: 0,\n",
              " 653: 0,\n",
              " 654: 0,\n",
              " 655: 0,\n",
              " 656: 0,\n",
              " 657: 0.01098901098901099,\n",
              " 658: 0,\n",
              " 659: 0.01818181818181818,\n",
              " 660: 0.01818181818181818,\n",
              " 661: 0,\n",
              " 662: 0.03333333333333333,\n",
              " 663: 0.07142857142857142,\n",
              " 664: 0.01098901098901099,\n",
              " 665: 0.01098901098901099,\n",
              " 666: 0,\n",
              " 667: 0,\n",
              " 668: 0.02197802197802198,\n",
              " 669: 0,\n",
              " 670: 0,\n",
              " 671: 0,\n",
              " 672: 0,\n",
              " 673: 0,\n",
              " 674: 0,\n",
              " 675: 0,\n",
              " 676: 0,\n",
              " 677: 0.016666666666666666,\n",
              " 678: 0.02857142857142857,\n",
              " 679: 0,\n",
              " 680: 0.022222222222222223,\n",
              " 681: 0,\n",
              " 682: 0.015789473684210527,\n",
              " 683: 0,\n",
              " 684: 0.01282051282051282,\n",
              " 685: 0,\n",
              " 686: 0,\n",
              " 687: 0,\n",
              " 688: 0.02564102564102564,\n",
              " 689: 0.009523809523809525,\n",
              " 690: 0,\n",
              " 691: 0,\n",
              " 692: 0,\n",
              " 693: 0,\n",
              " 694: 0,\n",
              " 695: 0.01282051282051282,\n",
              " 696: 0,\n",
              " 697: 0,\n",
              " 698: 0.01282051282051282,\n",
              " 699: 0,\n",
              " 700: 0,\n",
              " 701: 0,\n",
              " 702: 0,\n",
              " 703: 0.044444444444444446,\n",
              " 704: 0,\n",
              " 705: 0,\n",
              " 706: 0,\n",
              " 707: 0,\n",
              " 708: 0.008333333333333333,\n",
              " 709: 0.03571428571428571,\n",
              " 710: 0,\n",
              " 711: 0,\n",
              " 712: 0.03636363636363636,\n",
              " 713: 0.01098901098901099,\n",
              " 714: 0,\n",
              " 715: 0,\n",
              " 716: 0,\n",
              " 717: 0,\n",
              " 718: 0,\n",
              " 719: 0,\n",
              " 720: 0,\n",
              " 721: 0,\n",
              " 722: 0,\n",
              " 723: 0,\n",
              " 724: 0.044444444444444446,\n",
              " 725: 0,\n",
              " 726: 0,\n",
              " 727: 0,\n",
              " 728: 0,\n",
              " 729: 0,\n",
              " 730: 0,\n",
              " 731: 0,\n",
              " 732: 0,\n",
              " 733: 0,\n",
              " 734: 0,\n",
              " 735: 0.027777777777777776,\n",
              " 736: 0.01818181818181818,\n",
              " 737: 0.01818181818181818,\n",
              " 738: 0.02564102564102564,\n",
              " 739: 0.027777777777777776,\n",
              " 740: 0.01818181818181818,\n",
              " 741: 0,\n",
              " 742: 0.06666666666666667,\n",
              " 743: 0.05555555555555555,\n",
              " 744: 0,\n",
              " 745: 0.02197802197802198,\n",
              " 746: 0,\n",
              " 747: 0.03636363636363636,\n",
              " 748: 0,\n",
              " 749: 0.006535947712418301,\n",
              " 750: 0,\n",
              " 751: 0,\n",
              " 752: 0.009523809523809525,\n",
              " 753: 0.02197802197802198,\n",
              " 754: 0,\n",
              " 755: 0.01818181818181818,\n",
              " 756: 0,\n",
              " 757: 0,\n",
              " 758: 0,\n",
              " 759: 0,\n",
              " 760: 0,\n",
              " 761: 0,\n",
              " 762: 0.022222222222222223,\n",
              " 763: 0,\n",
              " 764: 0,\n",
              " 765: 0.015151515151515152,\n",
              " 766: 0.047619047619047616,\n",
              " 767: 0.022222222222222223,\n",
              " 768: 0,\n",
              " 769: 0,\n",
              " 770: 0,\n",
              " 771: 0,\n",
              " 772: 0,\n",
              " 773: 0,\n",
              " 774: 0,\n",
              " 775: 0.022222222222222223,\n",
              " 776: 0.01098901098901099,\n",
              " 777: 0.045454545454545456,\n",
              " 778: 0.022222222222222223,\n",
              " 779: 0.044444444444444446,\n",
              " 780: 0.01818181818181818,\n",
              " 781: 0.01098901098901099,\n",
              " 782: 0,\n",
              " 783: 0,\n",
              " 784: 0,\n",
              " 785: 0.01282051282051282,\n",
              " 786: 0,\n",
              " 787: 0.027777777777777776,\n",
              " 788: 0.03571428571428571,\n",
              " 789: 0,\n",
              " 790: 0.05555555555555555,\n",
              " 791: 0,\n",
              " 792: 0.044444444444444446,\n",
              " 793: 0,\n",
              " 794: 0,\n",
              " 795: 0.01818181818181818,\n",
              " 796: 0.027777777777777776,\n",
              " 797: 0,\n",
              " 798: 0,\n",
              " 799: 0,\n",
              " 800: 0,\n",
              " 801: 0.009523809523809525,\n",
              " 802: 0,\n",
              " 803: 0,\n",
              " 804: 0,\n",
              " 805: 0,\n",
              " 806: 0,\n",
              " 807: 0.007352941176470588,\n",
              " 808: 0,\n",
              " 809: 0,\n",
              " 810: 0,\n",
              " 811: 0,\n",
              " 812: 0,\n",
              " 813: 0.02564102564102564,\n",
              " 814: 0,\n",
              " 815: 0,\n",
              " 816: 0,\n",
              " 817: 0,\n",
              " 818: 0,\n",
              " 819: 0,\n",
              " 820: 0.027777777777777776,\n",
              " 821: 0,\n",
              " 822: 0,\n",
              " 823: 0.01818181818181818,\n",
              " 824: 0,\n",
              " 825: 0.01282051282051282,\n",
              " 826: 0,\n",
              " 827: 0.027777777777777776,\n",
              " 828: 0,\n",
              " 829: 0,\n",
              " 830: 0,\n",
              " 831: 0,\n",
              " 832: 0,\n",
              " 833: 0.027777777777777776,\n",
              " 834: 0.027777777777777776,\n",
              " 835: 0,\n",
              " 836: 0,\n",
              " 837: 0,\n",
              " 838: 0,\n",
              " 839: 0,\n",
              " 840: 0,\n",
              " 841: 0,\n",
              " 842: 0,\n",
              " 843: 0,\n",
              " 844: 0.04395604395604396,\n",
              " 845: 0.006535947712418301,\n",
              " 846: 0,\n",
              " 847: 0.022222222222222223,\n",
              " 848: 0.01098901098901099,\n",
              " 849: 0,\n",
              " 850: 0.015151515151515152,\n",
              " 851: 0,\n",
              " 852: 0.03571428571428571,\n",
              " 853: 0,\n",
              " 854: 0,\n",
              " 855: 0.01098901098901099,\n",
              " 856: 0.015151515151515152,\n",
              " 857: 0,\n",
              " 858: 0,\n",
              " 859: 0.06666666666666667,\n",
              " 860: 0.022222222222222223,\n",
              " 861: 0.015151515151515152,\n",
              " 862: 0.015151515151515152,\n",
              " 863: 0,\n",
              " 864: 0,\n",
              " 865: 0,\n",
              " 866: 0,\n",
              " 867: 0,\n",
              " 868: 0,\n",
              " 869: 0,\n",
              " 870: 0,\n",
              " 871: 0,\n",
              " 872: 0,\n",
              " 873: 0,\n",
              " 874: 0,\n",
              " 875: 0,\n",
              " 876: 0,\n",
              " 877: 0,\n",
              " 878: 0,\n",
              " 879: 0,\n",
              " 880: 0.027777777777777776,\n",
              " 881: 0,\n",
              " 882: 0,\n",
              " 883: 0,\n",
              " 884: 0,\n",
              " 885: 0.03636363636363636,\n",
              " 886: 0,\n",
              " 887: 0,\n",
              " 888: 0,\n",
              " 889: 0,\n",
              " 890: 0.047619047619047616,\n",
              " 891: 0.03636363636363636,\n",
              " 892: 0,\n",
              " 893: 0.047619047619047616,\n",
              " 894: 0,\n",
              " 895: 0,\n",
              " 896: 0.01818181818181818,\n",
              " 897: 0.022222222222222223,\n",
              " 898: 0.03636363636363636,\n",
              " 899: 0,\n",
              " 900: 0,\n",
              " 901: 0,\n",
              " 902: 0.027777777777777776,\n",
              " 903: 0,\n",
              " 904: 0,\n",
              " 905: 0,\n",
              " 906: 0.027777777777777776,\n",
              " 907: 0.02564102564102564,\n",
              " 908: 0,\n",
              " 909: 0.01818181818181818,\n",
              " 910: 0,\n",
              " 911: 0,\n",
              " 912: 0,\n",
              " 913: 0.01098901098901099,\n",
              " 914: 0,\n",
              " 915: 0,\n",
              " 916: 0,\n",
              " 917: 0,\n",
              " 918: 0.027777777777777776,\n",
              " 919: 0.015151515151515152,\n",
              " 920: 0,\n",
              " 921: 0,\n",
              " 922: 0.03636363636363636,\n",
              " 923: 0.009523809523809525,\n",
              " 924: 0,\n",
              " 925: 0,\n",
              " 926: 0,\n",
              " 927: 0,\n",
              " 928: 0,\n",
              " 929: 0.02197802197802198,\n",
              " 930: 0.01818181818181818,\n",
              " 931: 0,\n",
              " 932: 0,\n",
              " 933: 0.027777777777777776,\n",
              " 934: 0,\n",
              " 935: 0,\n",
              " 936: 0,\n",
              " 937: 0,\n",
              " 938: 0,\n",
              " 939: 0,\n",
              " 940: 0,\n",
              " 941: 0,\n",
              " 942: 0.01818181818181818,\n",
              " 943: 0.01818181818181818,\n",
              " 944: 0.01098901098901099,\n",
              " 945: 0,\n",
              " 946: 0,\n",
              " 947: 0.01098901098901099,\n",
              " 948: 0,\n",
              " 949: 0,\n",
              " 950: 0.03571428571428571,\n",
              " 951: 0,\n",
              " 952: 0,\n",
              " 953: 0.01098901098901099,\n",
              " 954: 0,\n",
              " 955: 0,\n",
              " 956: 0.01818181818181818,\n",
              " 957: 0,\n",
              " 958: 0.01282051282051282,\n",
              " 959: 0,\n",
              " 960: 0,\n",
              " 961: 0,\n",
              " 962: 0.01818181818181818,\n",
              " 963: 0,\n",
              " 964: 0,\n",
              " 965: 0,\n",
              " 966: 0,\n",
              " 967: 0.01098901098901099,\n",
              " 968: 0,\n",
              " 969: 0,\n",
              " 970: 0,\n",
              " 971: 0.02197802197802198,\n",
              " 972: 0,\n",
              " 973: 0,\n",
              " 974: 0,\n",
              " 975: 0,\n",
              " 976: 0.015151515151515152,\n",
              " 977: 0.01098901098901099,\n",
              " 978: 0.01282051282051282,\n",
              " 979: 0.01282051282051282,\n",
              " 980: 0.02564102564102564,\n",
              " 981: 0.06666666666666667,\n",
              " 982: 0,\n",
              " 983: 0,\n",
              " 984: 0,\n",
              " 985: 0.06666666666666667,\n",
              " 986: 0,\n",
              " 987: 0,\n",
              " 988: 0.03636363636363636,\n",
              " 989: 0.01282051282051282,\n",
              " 990: 0,\n",
              " 991: 0,\n",
              " 992: 0.03571428571428571,\n",
              " 993: 0,\n",
              " 994: 0,\n",
              " 995: 0,\n",
              " 996: 0,\n",
              " 997: 0,\n",
              " 998: 0,\n",
              " 999: 0}"
            ]
          },
          "metadata": {},
          "execution_count": 62
        }
      ],
      "source": [
        "nx.clustering(G)"
      ]
    },
    {
      "cell_type": "markdown",
      "metadata": {
        "id": "WvuptFYwBLAB"
      },
      "source": [
        "Similarly, we can compute the average clustering coefficient for the entire graph:"
      ]
    },
    {
      "cell_type": "code",
      "execution_count": 63,
      "metadata": {
        "colab": {
          "base_uri": "https://localhost:8080/"
        },
        "id": "qjJzLmAfBLAB",
        "outputId": "edb917bb-0fac-46b6-e815-37c26120ec51"
      },
      "outputs": [
        {
          "output_type": "execute_result",
          "data": {
            "text/plain": [
              "0.009136491810563018"
            ]
          },
          "metadata": {},
          "execution_count": 63
        }
      ],
      "source": [
        "nx.average_clustering(G)"
      ]
    },
    {
      "cell_type": "markdown",
      "metadata": {
        "id": "CEPsWuohBLAC"
      },
      "source": [
        "We can also calculate the transitivity of a graph:"
      ]
    },
    {
      "cell_type": "code",
      "execution_count": 64,
      "metadata": {
        "colab": {
          "base_uri": "https://localhost:8080/"
        },
        "id": "6nWR22tNBLAC",
        "outputId": "180981a8-6d9d-407e-ed90-40e4a6d44ad2"
      },
      "outputs": [
        {
          "output_type": "execute_result",
          "data": {
            "text/plain": [
              "0.009219274107698797"
            ]
          },
          "metadata": {},
          "execution_count": 64
        }
      ],
      "source": [
        "nx.transitivity(G)"
      ]
    },
    {
      "cell_type": "code",
      "source": [],
      "metadata": {
        "id": "osmVVCqUDhiw"
      },
      "execution_count": null,
      "outputs": []
    }
  ],
  "metadata": {
    "kernelspec": {
      "display_name": "Python 3.12.10 (ipykernel)",
      "language": "python",
      "name": "python3"
    },
    "language_info": {
      "codemirror_mode": {
        "name": "ipython",
        "version": 3
      },
      "file_extension": ".py",
      "mimetype": "text/x-python",
      "name": "python",
      "nbconvert_exporter": "python",
      "pygments_lexer": "ipython3",
      "version": "3.12.10"
    },
    "colab": {
      "provenance": []
    }
  },
  "nbformat": 4,
  "nbformat_minor": 0
}